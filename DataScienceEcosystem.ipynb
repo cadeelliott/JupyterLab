{
 "cells": [
  {
   "cell_type": "markdown",
   "id": "58e1382a-4e4d-4922-a6a7-0feb4fc50340",
   "metadata": {},
   "source": [
    "# Data Science Tools and Ecosystem"
   ]
  },
  {
   "cell_type": "markdown",
   "id": "ca9c7cbe-62ef-4deb-8846-9d0bb1d508f3",
   "metadata": {
    "tags": []
   },
   "source": [
    "In this notebook, Data Science Tools and Ecosystem are summarized."
   ]
  },
  {
   "cell_type": "markdown",
   "id": "77cf64e5-c3f9-463a-ac4e-206c7e6c4478",
   "metadata": {},
   "source": [
    "**Objectives:**\n",
    "- Languages for DS\n",
    "- Libraries for DS\n",
    "- Tools for DS"
   ]
  },
  {
   "cell_type": "markdown",
   "id": "66e357d3-edb5-431a-902a-488791632614",
   "metadata": {},
   "source": [
    "Some of the popular languages that Data Scientists use are:\n",
    "1. Python\n",
    "2. R\n",
    "3. SQL"
   ]
  },
  {
   "cell_type": "markdown",
   "id": "ab5e14de-0a7a-4628-9d26-2cb4fe737185",
   "metadata": {},
   "source": [
    "Some of the commonly used libraries used by Data Scientists include:\n",
    "1. SciKit-Learn\n",
    "2. Tensor Flow\n",
    "3. Pytorch"
   ]
  },
  {
   "cell_type": "markdown",
   "id": "8b5510f5-0829-4864-8fa9-3a9284e2b0c9",
   "metadata": {},
   "source": [
    "|Data Science Tools|\n",
    "|-|\n",
    "|Python|\n",
    "|Visual Studio|\n",
    "|Google Colab|"
   ]
  },
  {
   "cell_type": "markdown",
   "id": "bc4fbef8-a101-41aa-b430-0a0a4d2450a1",
   "metadata": {},
   "source": [
    "### Below are a few examples of evaluating arithmetic expressions in Python"
   ]
  },
  {
   "cell_type": "code",
   "execution_count": 5,
   "id": "e023793d-b7d7-43d7-8e83-6902d9df79b2",
   "metadata": {
    "tags": []
   },
   "outputs": [
    {
     "data": {
      "text/plain": [
       "17"
      ]
     },
     "execution_count": 5,
     "metadata": {},
     "output_type": "execute_result"
    }
   ],
   "source": [
    "# This a simple arithmetic expression to mutiply then add integers\n",
    "(3*4)+5"
   ]
  },
  {
   "cell_type": "code",
   "execution_count": 6,
   "id": "79948623-3abb-4a5a-8bcd-c8508b288914",
   "metadata": {
    "tags": []
   },
   "outputs": [
    {
     "data": {
      "text/plain": [
       "3.3333333333333335"
      ]
     },
     "execution_count": 6,
     "metadata": {},
     "output_type": "execute_result"
    }
   ],
   "source": [
    "# This will convert 200 minutes to hours by diving by 60\n",
    "minutes = 200\n",
    "hours = minutes/60\n",
    "hours"
   ]
  },
  {
   "cell_type": "markdown",
   "id": "637298fc-f125-4d0e-bb8a-92554f9ebbaa",
   "metadata": {},
   "source": [
    "## Author\n",
    "Cade Elliott"
   ]
  },
  {
   "cell_type": "code",
   "execution_count": null,
   "id": "35c26d4f-febf-4016-a521-22cc6145630d",
   "metadata": {},
   "outputs": [],
   "source": []
  }
 ],
 "metadata": {
  "kernelspec": {
   "display_name": "Python",
   "language": "python",
   "name": "conda-env-python-py"
  },
  "language_info": {
   "codemirror_mode": {
    "name": "ipython",
    "version": 3
   },
   "file_extension": ".py",
   "mimetype": "text/x-python",
   "name": "python",
   "nbconvert_exporter": "python",
   "pygments_lexer": "ipython3",
   "version": "3.7.12"
  }
 },
 "nbformat": 4,
 "nbformat_minor": 5
}
